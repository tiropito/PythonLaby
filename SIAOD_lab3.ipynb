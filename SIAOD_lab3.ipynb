{
 "cells": [
  {
   "cell_type": "markdown",
   "id": "94c6e703-202b-4347-85f8-2ca24ecf00ef",
   "metadata": {},
   "source": [
    "# Лабораторная работа 3. \n",
    "# Сетевые алгоритмы. Динамические алгоритмы поиска путей.\n"
   ]
  },
  {
   "cell_type": "markdown",
   "id": "9919b201-d5f8-4801-bc3d-f9644ecf3996",
   "metadata": {},
   "source": [
    "## Выполнил студент группы БФИ2301 Зайцев Ярослав Евгеньевич\n",
    "***"
   ]
  },
  {
   "cell_type": "markdown",
   "id": "0458fe4d-0657-4cbe-9fc8-6d34d407fa59",
   "metadata": {},
   "source": [
    "Алгоритм Беллмана-Форда"
   ]
  },
  {
   "cell_type": "code",
   "execution_count": 1,
   "id": "24334f02-66f5-4bf2-b4ab-04d56d8ee202",
   "metadata": {},
   "outputs": [
    {
     "name": "stdin",
     "output_type": "stream",
     "text": [
      "Введите начальную вершину:  0\n",
      "Введите конечную вершину:  4\n"
     ]
    },
    {
     "name": "stdout",
     "output_type": "stream",
     "text": [
      "Кратчайшее расстояние от 0 до 4: 1\n",
      "Путь: 0 -> 1 -> 4\n"
     ]
    }
   ],
   "source": [
    "class Graph:\n",
    "    def __init__(self, vertices):\n",
    "        self.V = vertices\n",
    "        self.graph = []\n",
    "    \n",
    "    def add_edge(self, u, v, w):\n",
    "        self.graph.append((u, v, w))\n",
    "    \n",
    "    def bellman_ford(self, src, dest):\n",
    "        # Инициализация расстояний\n",
    "        dist = [float('inf')] * self.V\n",
    "        dist[src] = 0\n",
    "        predecessor = [-1] * self.V\n",
    "        \n",
    "        # Релаксация всех ребер V-1 раз\n",
    "        for _ in range(self.V - 1):\n",
    "            for u, v, w in self.graph:\n",
    "                if dist[u] != float('inf') and dist[u] + w < dist[v]:\n",
    "                    dist[v] = dist[u] + w\n",
    "                    predecessor[v] = u\n",
    "        \n",
    "        # Проверка на отрицательные циклы\n",
    "        for u, v, w in self.graph:\n",
    "            if dist[u] != float('inf') and dist[u] + w < dist[v]:\n",
    "                return (None, \"Граф содержит цикл отрицательного веса\")\n",
    "        \n",
    "        # Восстановление пути\n",
    "        if dist[dest] == float('inf'):\n",
    "            return (None, \"Путь не существует\")\n",
    "        \n",
    "        path = []\n",
    "        current = dest\n",
    "        while current != -1:\n",
    "            path.insert(0, current)\n",
    "            current = predecessor[current]\n",
    "        \n",
    "        return (dist[dest], path)\n",
    "\n",
    "def read_graph_from_file(filename):\n",
    "    with open(filename, 'r') as f:\n",
    "        lines = f.readlines()\n",
    "        V = int(lines[0].strip())\n",
    "        g = Graph(V)\n",
    "        \n",
    "        for line in lines[1:]:\n",
    "            if line.strip():\n",
    "                u, v, w = map(int, line.strip().split())\n",
    "                g.add_edge(u, v, w)\n",
    "    \n",
    "    return g\n",
    "\n",
    "def main():\n",
    "    \n",
    "    filename = \"large_graph.txt\"\n",
    "    src = int(input(\"Введите начальную вершину: \"))\n",
    "    dest = int(input(\"Введите конечную вершину: \"))\n",
    "    \n",
    "\n",
    "    graph = read_graph_from_file(filename)\n",
    "    distance, result = graph.bellman_ford(src, dest)\n",
    "        \n",
    "    if distance is not None:\n",
    "        print(f\"Кратчайшее расстояние от {src} до {dest}: {distance}\")\n",
    "        print(\"Путь:\", \" -> \".join(map(str, result)))\n",
    "    else:\n",
    "        print(result)\n",
    "\n",
    "if __name__ == \"__main__\":\n",
    "    main()"
   ]
  },
  {
   "cell_type": "code",
   "execution_count": null,
   "id": "92b911c3-0d84-46b5-bc9e-f2c25787b897",
   "metadata": {},
   "outputs": [],
   "source": []
  }
 ],
 "metadata": {
  "kernelspec": {
   "display_name": "Python 3 (ipykernel)",
   "language": "python",
   "name": "python3"
  },
  "language_info": {
   "codemirror_mode": {
    "name": "ipython",
    "version": 3
   },
   "file_extension": ".py",
   "mimetype": "text/x-python",
   "name": "python",
   "nbconvert_exporter": "python",
   "pygments_lexer": "ipython3",
   "version": "3.13.2"
  }
 },
 "nbformat": 4,
 "nbformat_minor": 5
}
