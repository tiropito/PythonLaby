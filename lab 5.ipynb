{
 "cells": [
  {
   "attachments": {},
   "cell_type": "markdown",
   "id": "db4b50f0",
   "metadata": {
    "id": "db4b50f0"
   },
   "source": [
    "# Лабораторная работа №5\n",
    "## Выполнил студент группы БФИ2302 Рыбаков А.Д. "
   ]
  },
  {
   "attachments": {},
   "cell_type": "markdown",
   "id": "annual-symbol",
   "metadata": {
    "id": "annual-symbol"
   },
   "source": [
    "### Оглавление\n",
    "1. [Задание 1](#Задание-№1)\n",
    "2. [Задание 2](#Задание-№2)\n",
    "4. [Вывод](#Вывод)"
   ]
  },
  {
   "attachments": {},
   "cell_type": "markdown",
   "id": "independent-spirit",
   "metadata": {
    "id": "independent-spirit"
   },
   "source": [
    "> Дополнительные модули, использованные при выполнение лабораторной"
   ]
  },
  {
   "cell_type": "code",
   "execution_count": 1,
   "id": "4839be2b",
   "metadata": {
    "id": "4839be2b"
   },
   "outputs": [],
   "source": [
    "# Необходим при замере скорости выполнения кода\n",
    "from datetime import datetime as t\n",
    "# Нужен для создания словаря в алг. Бойера-Мура\n",
    "from collections import defaultdict"
   ]
  },
  {
   "attachments": {},
   "cell_type": "markdown",
   "id": "inclusive-motorcycle",
   "metadata": {
    "id": "inclusive-motorcycle"
   },
   "source": [
    "### Задание №1\n",
    "Реализовать методы поиска подстроки в строке. Добавить возможность ввода строки и подстроки с клавиатуры. Предусмотреть возможность существования пробела. Реализовать возможность выбора опции чувствительности или нечувствительности к регистру. Оценить время работы каждого алгоритма поиска и сравнить его со временем работы стандартной функции поиска, используемой в выбранном языке программирования."
   ]
  },
  {
   "attachments": {},
   "cell_type": "markdown",
   "id": "interracial-communication",
   "metadata": {
    "id": "interracial-communication"
   },
   "source": [
    "#### Алгоритм Кнута-Морриса-Пратта"
   ]
  },
  {
   "cell_type": "code",
   "execution_count": 1,
   "id": "presidential-level",
   "metadata": {
    "id": "presidential-level"
   },
   "outputs": [
    {
     "name": "stdout",
     "output_type": "stream",
     "text": [
      "\n",
      "Результаты поиска:\n",
      "Алгоритм КМП: [0], время: 0.001006 секунд\n",
      "Стандартный поиск: [0], время: 0.000000 секунд\n"
     ]
    }
   ],
   "source": [
    "import time\n",
    "\n",
    "# Реализация алгоритма Кнута-Морриса-Пратта\n",
    "def kmp_search(text, pattern, case_sensitive=True):\n",
    "    if not case_sensitive:\n",
    "        text = text.lower()\n",
    "        pattern = pattern.lower()\n",
    "\n",
    "    # Функция для создания префикс-функции\n",
    "    def compute_prefix_function(pattern):\n",
    "        prefix = [0] * len(pattern)\n",
    "        j = 0\n",
    "        for i in range(1, len(pattern)):\n",
    "            while j > 0 and pattern[i] != pattern[j]:\n",
    "                j = prefix[j - 1]\n",
    "            if pattern[i] == pattern[j]:\n",
    "                j += 1\n",
    "            prefix[i] = j\n",
    "        return prefix\n",
    "\n",
    "    prefix = compute_prefix_function(pattern)\n",
    "    j = 0\n",
    "    occurrences = []\n",
    "\n",
    "    for i in range(len(text)):\n",
    "        while j > 0 and text[i] != pattern[j]:\n",
    "            j = prefix[j - 1]\n",
    "        if text[i] == pattern[j]:\n",
    "            j += 1\n",
    "        if j == len(pattern):\n",
    "            occurrences.append(i - (j - 1))\n",
    "            j = prefix[j - 1]\n",
    "\n",
    "    return occurrences\n",
    "\n",
    "# Функция для ввода строки и подстроки\n",
    "def input_string_and_substring():\n",
    "    text = input(\"Введите строку: \")\n",
    "    pattern = input(\"Введите подстроку: \")\n",
    "    case_sensitive = input(\"Чувствительность к регистру (y/n): \").lower() == 'y'\n",
    "    return text, pattern, case_sensitive\n",
    "\n",
    "# Основная функция\n",
    "def main():\n",
    "    text, pattern, case_sensitive = input_string_and_substring()\n",
    "\n",
    "    # Поиск с использованием алгоритма КМП\n",
    "    start_time = time.time()\n",
    "    kmp_result = kmp_search(text, pattern, case_sensitive)\n",
    "    kmp_time = time.time() - start_time\n",
    "\n",
    "    # Поиск с использованием стандартной функции Python\n",
    "    start_time = time.time()\n",
    "    if case_sensitive:\n",
    "        standard_result = [i for i in range(len(text)) if text.startswith(pattern, i)]\n",
    "    else:\n",
    "        standard_result = [i for i in range(len(text)) if text.lower().startswith(pattern.lower(), i)]\n",
    "    standard_time = time.time() - start_time\n",
    "\n",
    "    # Вывод результатов\n",
    "    print(\"\\nРезультаты поиска:\")\n",
    "    print(f\"Алгоритм КМП: {kmp_result}, время: {kmp_time:.6f} секунд\")\n",
    "    print(f\"Стандартный поиск: {standard_result}, время: {standard_time:.6f} секунд\")\n",
    "\n",
    "if __name__ == \"__main__\":\n",
    "    main()"
   ]
  },
  {
   "attachments": {},
   "cell_type": "markdown",
   "id": "downtown-option",
   "metadata": {
    "id": "downtown-option"
   },
   "source": [
    "#### Упрощенный алгоритм Бойера-Мура"
   ]
  },
  {
   "cell_type": "code",
   "execution_count": 2,
   "id": "respective-reggae",
   "metadata": {
    "id": "respective-reggae"
   },
   "outputs": [
    {
     "name": "stdout",
     "output_type": "stream",
     "text": [
      "Найденные позиции: [4, 8]\n"
     ]
    }
   ],
   "source": [
    "def boyer_moore_simple(text, pattern):\n",
    "    n = len(text)  \n",
    "    m = len(pattern)  \n",
    "    if m == 0:  \n",
    "        return []\n",
    "\n",
    "    # таблица сдвигов для неверно символа\n",
    "    shift = {}  \n",
    "    for i in range(m - 1):  \n",
    "        shift[pattern[i]] = m - i - 1  \n",
    "\n",
    "    # если символа нет в таблице, сдвигаем на всю длину подстроки\n",
    "    default_shift = m\n",
    "\n",
    "    # поиск подстроки\n",
    "    i = 0  \n",
    "    occurrences = []  \n",
    "    while i <= n - m: \n",
    "        j = m - 1 \n",
    "        while j >= 0 and text[i + j] == pattern[j]: \n",
    "            j -= 1\n",
    "        if j == -1:\n",
    "            occurrences.append(i)\n",
    "            i += m\n",
    "        else:\n",
    "            \n",
    "            char = text[i + j]\n",
    "            if char in shift:  \n",
    "                i += shift[char] \n",
    "            else: \n",
    "                i += default_shift \n",
    "\n",
    "    return occurrences  \n",
    "\n",
    "text = \"ABAAABCDABC\"\n",
    "pattern = \"ABC\"\n",
    "result = boyer_moore_simple(text, pattern)\n",
    "print(\"Найденные позиции:\", result)"
   ]
  },
  {
   "attachments": {},
   "cell_type": "markdown",
   "id": "hybrid-memorial",
   "metadata": {
    "id": "hybrid-memorial"
   },
   "source": [
    "### Задание №2\n",
    "Написать программу, определяющую, является ли данное\n",
    "расположение «решаемым», то есть можно ли из него за конечное число\n",
    "шагов перейти к правильному. Если это возможно, то необходимо найти хотя\n",
    "бы одно решение - последовательность движений, после которой числа будут\n",
    "расположены в правильном порядке.\n",
    "#### Входные данные: массив чисел, представляющий собой расстановку в\n",
    "Порядке «слева направо, сверху вниз». Число 0 обозначает пустое поле.\n",
    "Например, массив [1, 2, 3, 4, 5, 6, 7, 8, 9, 10, 11, 12, 13, 14, 15, 0] представляет\n",
    "собой «решенную» позицию элементов.\n",
    "#### Выходные данные: если решения нет, то функция должна вернуть\n",
    "Пустой массив []. Если решение есть, то необходимо представить решение —\n",
    "для каждого шага записывается номер передвигаемого на данном шаге\n",
    "элемента. "
   ]
  },
  {
   "cell_type": "code",
   "execution_count": 1,
   "id": "eleven-generic",
   "metadata": {
    "id": "eleven-generic"
   },
   "outputs": [
    {
     "name": "stdout",
     "output_type": "stream",
     "text": [
      "Решение найдено! Последовательность шагов: [15]\n"
     ]
    }
   ],
   "source": [
    "from collections import deque\n",
    "\n",
    "# Функция для проверки, является ли головоломка решаемой\n",
    "def is_solvable(puzzle):\n",
    "    inversions = 0\n",
    "    n = len(puzzle)\n",
    "    for i in range(n):\n",
    "        for j in range(i + 1, n):\n",
    "            if puzzle[i] != 0 and puzzle[j] != 0 and puzzle[i] > puzzle[j]:\n",
    "                inversions += 1\n",
    "    # Для головоломки 4x4:\n",
    "    # Если пустая клетка находится на чётной строке снизу, то количество инверсий должно быть нечётным.\n",
    "    # Если пустая клетка находится на нечётной строке снизу, то количество инверсий должно быть чётным.\n",
    "    empty_row = n // 4 - (puzzle.index(0) // 4)\n",
    "    if empty_row % 2 == 0:\n",
    "        return inversions % 2 != 0\n",
    "    else:\n",
    "        return inversions % 2 == 0\n",
    "\n",
    "# Функция для поиска решения\n",
    "def solve_puzzle(puzzle):\n",
    "    if not is_solvable(puzzle):\n",
    "        return []  # Если головоломка нерешаема, возвращаем пустой список\n",
    "\n",
    "    target = [1, 2, 3, 4, 5, 6, 7, 8, 9, 10, 11, 12, 13, 14, 15, 0]\n",
    "    if puzzle == target:\n",
    "        return []  # Если головоломка уже решена, возвращаем пустой список\n",
    "\n",
    "    # Направления движения: вверх, вниз, влево, вправо\n",
    "    directions = [(-1, 0, 'up'), (1, 0, 'down'), (0, -1, 'left'), (0, 1, 'right')]\n",
    "\n",
    "    # Очередь для BFS\n",
    "    queue = deque()\n",
    "    queue.append((puzzle, []))  # текущее состояние, последовательность шагов\n",
    "\n",
    "    # Множество для хранения посещённых состояний\n",
    "    visited = set()\n",
    "    visited.add(tuple(puzzle))\n",
    "\n",
    "    while queue:\n",
    "        current, path = queue.popleft()\n",
    "        zero_index = current.index(0)\n",
    "        zero_row, zero_col = zero_index // 4, zero_index % 4\n",
    "\n",
    "        for dr, dc, move in directions:\n",
    "            new_row, new_col = zero_row + dr, zero_col + dc\n",
    "            if 0 <= new_row < 4 and 0 <= new_col < 4:\n",
    "                new_index = new_row * 4 + new_col\n",
    "                new_puzzle = current.copy()\n",
    "                # Меняем местами 0 и соседний элемент\n",
    "                new_puzzle[zero_index], new_puzzle[new_index] = new_puzzle[new_index], new_puzzle[zero_index]\n",
    "                if tuple(new_puzzle) not in visited:\n",
    "                    if new_puzzle == target:\n",
    "                        return path + [new_puzzle[zero_index]]  # Возвращаем последовательность шагов\n",
    "                    visited.add(tuple(new_puzzle))\n",
    "                    queue.append((new_puzzle, path + [new_puzzle[zero_index]]))\n",
    "\n",
    "    return []  # Если решение не найдено\n",
    "\n",
    "# Ввод данных\n",
    "puzzle = [1, 2, 3, 4, 5, 6, 7, 8, 9, 10, 11, 12, 13, 14, 0, 15]  # Пример входных данных\n",
    "\n",
    "# Решение головоломки\n",
    "solution = solve_puzzle(puzzle)\n",
    "if solution:\n",
    "    print(\"Решение найдено! Последовательность шагов:\", solution)\n",
    "else:\n",
    "    print(\"Решение не найдено.\")"
   ]
  },
  {
   "attachments": {},
   "cell_type": "markdown",
   "id": "arbitrary-amazon",
   "metadata": {
    "id": "arbitrary-amazon"
   },
   "source": [
    "### Вывод"
   ]
  },
  {
   "attachments": {},
   "cell_type": "markdown",
   "id": "71bc58bf",
   "metadata": {
    "id": "71bc58bf"
   },
   "source": []
  }
 ],
 "metadata": {
  "colab": {
   "provenance": []
  },
  "kernelspec": {
   "display_name": "Python 3",
   "language": "python",
   "name": "python3"
  },
  "language_info": {
   "codemirror_mode": {
    "name": "ipython",
    "version": 3
   },
   "file_extension": ".py",
   "mimetype": "text/x-python",
   "name": "python",
   "nbconvert_exporter": "python",
   "pygments_lexer": "ipython3",
   "version": "3.9.13"
  }
 },
 "nbformat": 4,
 "nbformat_minor": 5
}
