{
 "cells": [
  {
   "cell_type": "markdown",
   "metadata": {
    "id": "JIBgeLqCnGPK"
   },
   "source": [
    "# **Лабораторная работа №4**\n",
    "# **Выполнил студент группы БФИ 2302 Рыбаков А.Д.**"
   ]
  },
  {
   "cell_type": "markdown",
   "metadata": {
    "id": "L_oN6VOypVHq"
   },
   "source": [
    "### Оглавление\n",
    "1. [Задание 1](#Задание-№1)\n",
    "2. [Задание 2](#Задание-№2)\n",
    "3. [Задание 3](#Задание-№3)"
   ]
  },
  {
   "cell_type": "markdown",
   "metadata": {
    "id": "X2GeO24U--Xm"
   },
   "source": [
    "### Задание №1"
   ]
  },
  {
   "cell_type": "code",
   "execution_count": null,
   "metadata": {
    "colab": {
     "base_uri": "https://localhost:8080/"
    },
    "executionInfo": {
     "elapsed": 31,
     "status": "ok",
     "timestamp": 1740602465894,
     "user": {
      "displayName": "Ngungui Mazembe",
      "userId": "16166709129145843835"
     },
     "user_tz": -180
    },
    "id": "88a6Icff_RP6",
    "outputId": "6258a8fe-9e1a-4588-f8f0-21ed5f24c7b9"
   },
   "outputs": [
    {
     "name": "stdout",
     "output_type": "stream",
     "text": [
      "Binary Search: (-1, 8.58306884765625e-06)\n",
      "Fibonacci Search: (-1, 1.0728836059570312e-05)\n",
      "Interpolation Search: (-1, 5.4836273193359375e-06)\n",
      "Built-in bisect: (440, 3.814697265625e-06)\n",
      "Binary Tree Search: (True, 6.9141387939453125e-06)\n"
     ]
    }
   ],
   "source": [
    "import time\n",
    "import random\n",
    "import bisect\n",
    "from collections import deque\n",
    "\n",
    "# Генерация случайных данных\n",
    "def generate_data(size, start=0, end=1000):\n",
    "    return sorted(random.sample(range(start, end), size))\n",
    "\n",
    "# Бинарный поиск (итеративный)\n",
    "def binary_search(arr, target):\n",
    "    left, right = 0, len(arr) - 1\n",
    "    while left <= right:\n",
    "        mid = (left + right) // 2\n",
    "        if arr[mid] == target:\n",
    "            return mid\n",
    "        elif arr[mid] < target:\n",
    "            left = mid + 1\n",
    "        else:\n",
    "            right = mid - 1\n",
    "    return -1\n",
    "\n",
    "# Узел бинарного дерева\n",
    "class TreeNode:\n",
    "    def __init__(self, value):\n",
    "        self.value = value\n",
    "        self.left = None\n",
    "        self.right = None\n",
    "\n",
    "# Бинарное дерево (с итеративной вставкой)\n",
    "class BinaryTree:\n",
    "    def __init__(self):\n",
    "        self.root = None\n",
    "\n",
    "    def insert(self, value):\n",
    "        new_node = TreeNode(value)\n",
    "        if not self.root:\n",
    "            self.root = new_node\n",
    "            return\n",
    "\n",
    "        current = self.root\n",
    "        while True:\n",
    "            if value < current.value:\n",
    "                if current.left is None:\n",
    "                    current.left = new_node\n",
    "                    break\n",
    "                current = current.left\n",
    "            else:\n",
    "                if current.right is None:\n",
    "                    current.right = new_node\n",
    "                    break\n",
    "                current = current.right\n",
    "\n",
    "    def search(self, value):\n",
    "        current = self.root\n",
    "        while current:\n",
    "            if current.value == value:\n",
    "                return True\n",
    "            elif value < current.value:\n",
    "                current = current.left\n",
    "            else:\n",
    "                current = current.right\n",
    "        return False\n",
    "\n",
    "# Фибоначчиев поиск\n",
    "def fibonacci_search(arr, target):\n",
    "    size = len(arr)\n",
    "    fib2, fib1 = 0, 1\n",
    "    fibM = fib1 + fib2\n",
    "    while fibM < size:\n",
    "        fib2, fib1 = fib1, fibM\n",
    "        fibM = fib1 + fib2\n",
    "\n",
    "    offset = -1\n",
    "    while fibM > 1:\n",
    "        i = min(offset + fib2, size - 1)\n",
    "        if arr[i] < target:\n",
    "            fibM, fib1, fib2 = fib1, fib2, fib1 - fib2\n",
    "            offset = i\n",
    "        elif arr[i] > target:\n",
    "            fibM, fib1, fib2 = fib2, fib1 - fib2, fib2 - fib1\n",
    "        else:\n",
    "            return i\n",
    "    if fib1 and offset + 1 < size and arr[offset + 1] == target:\n",
    "        return offset + 1\n",
    "    return -1\n",
    "\n",
    "# Интерполяционный поиск\n",
    "def interpolation_search(arr, target):\n",
    "    low, high = 0, len(arr) - 1\n",
    "    while low <= high and arr[low] <= target <= arr[high]:\n",
    "        pos = low + ((target - arr[low]) * (high - low) // (arr[high] - arr[low]))\n",
    "        if arr[pos] == target:\n",
    "            return pos\n",
    "        if arr[pos] < target:\n",
    "            low = pos + 1\n",
    "        else:\n",
    "            high = pos - 1\n",
    "    return -1\n",
    "\n",
    "# Функция для измерения времени работы алгоритмов\n",
    "def measure_time(search_func, arr, target):\n",
    "    start_time = time.time()\n",
    "    result = search_func(arr, target)\n",
    "    end_time = time.time()\n",
    "    return result, end_time - start_time\n",
    "\n",
    "# Генерация данных и тестирование\n",
    "size = 1000\n",
    "data = generate_data(size)\n",
    "random.shuffle(data)  # Перемешивание данных перед вставкой в дерево\n",
    "target = random.choice(data)\n",
    "\n",
    "# Создание и наполнение бинарного дерева\n",
    "tree = BinaryTree()\n",
    "for num in data:\n",
    "    tree.insert(num)\n",
    "\n",
    "# Замер времени работы\n",
    "print(\"Binary Search:\", measure_time(binary_search, data, target))\n",
    "print(\"Fibonacci Search:\", measure_time(fibonacci_search, data, target))\n",
    "print(\"Interpolation Search:\", measure_time(interpolation_search, data, target))\n",
    "print(\"Built-in bisect:\", measure_time(lambda arr, x: bisect.bisect_left(arr, x), data, target))\n",
    "print(\"Binary Tree Search:\", measure_time(lambda arr, x: tree.search(x), data, target))\n"
   ]
  },
  {
   "cell_type": "markdown",
   "metadata": {
    "id": "djqs7K4R_MyP"
   },
   "source": [
    "### Задание №2"
   ]
  },
  {
   "cell_type": "code",
   "execution_count": 3,
   "metadata": {
    "id": "KQM_8-nc_gFi"
   },
   "outputs": [
    {
     "name": "stdout",
     "output_type": "stream",
     "text": [
      "Простое рэхеширование:\n",
      "10\n",
      "20\n",
      "None\n",
      "\n",
      "Псевдослучайные числа:\n",
      "10\n",
      "20\n",
      "None\n",
      "\n",
      "Метод цепочек:\n",
      "10\n",
      "20\n",
      "None\n"
     ]
    }
   ],
   "source": [
    "import random\n",
    "from typing import List, Optional\n",
    "\n",
    "class HashTableBase:\n",
    "    def __init__(self, size: int):\n",
    "        self.size = size\n",
    "        self.table = [None] * size\n",
    "\n",
    "    def _hash(self, key: str) -> int:\n",
    "        # Простой хеш-функция: сумма ASCII-значений символов ключа % размер таблицы\n",
    "        return sum(ord(c) for c in key) % self.size\n",
    "\n",
    "    def insert(self, key: str, value: any) -> None:\n",
    "        raise NotImplementedError()\n",
    "\n",
    "    def search(self, key: str) -> Optional[any]:\n",
    "        raise NotImplementedError()\n",
    "\n",
    "    def delete(self, key: str) -> None:\n",
    "        raise NotImplementedError()\n",
    "\n",
    "\n",
    "# 1. Простое рехэширование (линейное пробирование)\n",
    "class LinearProbingHashTable(HashTableBase):\n",
    "    def insert(self, key: str, value: any) -> None:\n",
    "        index = self._hash(key)\n",
    "        while self.table[index] is not None and self.table[index][0] != key:\n",
    "            index = (index + 1) % self.size  # Линейное пробирование\n",
    "        self.table[index] = (key, value)\n",
    "\n",
    "    def search(self, key: str) -> Optional[any]:\n",
    "        index = self._hash(key)\n",
    "        while True:\n",
    "            if self.table[index] is None:\n",
    "                return None  # Ключ не найден\n",
    "            if self.table[index][0] == key:\n",
    "                return self.table[index][1]  # Найдено значение\n",
    "            index = (index + 1) % self.size  # Продолжаем поиск\n",
    "\n",
    "    def delete(self, key: str) -> None:\n",
    "        index = self._hash(key)\n",
    "        while True:\n",
    "            if self.table[index] is None:\n",
    "                return  # Ключ не найден\n",
    "            if self.table[index][0] == key:\n",
    "                self.table[index] = None  # Удаляем элемент\n",
    "                return\n",
    "            index = (index + 1) % self.size\n",
    "\n",
    "\n",
    "# 2. Рехэширование с помощью псевдослучайных чисел\n",
    "class RandomProbingHashTable(HashTableBase):\n",
    "    def insert(self, key: str, value: any) -> None:\n",
    "        index = self._hash(key)\n",
    "        step = random.randint(1, self.size - 1)  # Случайный шаг\n",
    "        while self.table[index] is not None and self.table[index][0] != key:\n",
    "            index = (index + step) % self.size  # Случайное пробирование\n",
    "        self.table[index] = (key, value)\n",
    "\n",
    "    def search(self, key: str) -> Optional[any]:\n",
    "        index = self._hash(key)\n",
    "        step = random.randint(1, self.size - 1)  # Случайный шаг\n",
    "        while True:\n",
    "            if self.table[index] is None:\n",
    "                return None  # Ключ не найден\n",
    "            if self.table[index][0] == key:\n",
    "                return self.table[index][1]  # Найдено значение\n",
    "            index = (index + step) % self.size  # Продолжаем поиск\n",
    "\n",
    "    def delete(self, key: str) -> None:\n",
    "        index = self._hash(key)\n",
    "        step = random.randint(1, self.size - 1)  # Случайный шаг\n",
    "        while True:\n",
    "            if self.table[index] is None:\n",
    "                return  # Ключ не найден\n",
    "            if self.table[index][0] == key:\n",
    "                self.table[index] = None  # Удаляем элемент\n",
    "                return\n",
    "            index = (index + step) % self.size\n",
    "\n",
    "\n",
    "# 3. Метод цепочек\n",
    "class ChainingHashTable(HashTableBase):\n",
    "    def __init__(self, size: int):\n",
    "        super().__init__(size)\n",
    "        self.table = [[] for _ in range(size)]  # Каждая ячейка - список\n",
    "\n",
    "    def insert(self, key: str, value: any) -> None:\n",
    "        index = self._hash(key)\n",
    "        for i, (k, v) in enumerate(self.table[index]):\n",
    "            if k == key:\n",
    "                self.table[index][i] = (key, value)  # Обновляем значение\n",
    "                return\n",
    "        self.table[index].append((key, value))  # Добавляем новый элемент\n",
    "\n",
    "    def search(self, key: str) -> Optional[any]:\n",
    "        index = self._hash(key)\n",
    "        for k, v in self.table[index]:\n",
    "            if k == key:\n",
    "                return v  # Найдено значение\n",
    "        return None  # Ключ не найден\n",
    "\n",
    "    def delete(self, key: str) -> None:\n",
    "        index = self._hash(key)\n",
    "        for i, (k, v) in enumerate(self.table[index]):\n",
    "            if k == key:\n",
    "                del self.table[index][i]  # Удаляем элемент\n",
    "                return\n",
    "\n",
    "\n",
    "# Тестирование\n",
    "if __name__ == \"__main__\":\n",
    "    # Тестовая функция для всех методов\n",
    "    def test_hash_table(table: HashTableBase):\n",
    "        table.insert(\"apple\", 10)\n",
    "        table.insert(\"banana\", 20)\n",
    "        table.insert(\"cherry\", 30)\n",
    "        print(table.search(\"apple\"))  # Should print 10\n",
    "        print(table.search(\"banana\"))  # Should print 20\n",
    "        table.delete(\"banana\")\n",
    "        print(table.search(\"banana\"))  # Should print None\n",
    "\n",
    "    # Тестирование простого рехэширования\n",
    "    print(\"Простое рэхеширование:\")\n",
    "    linear_table = LinearProbingHashTable(10)\n",
    "    test_hash_table(linear_table)\n",
    "\n",
    "    # Тестирование рехэширования с псевдослучайными числами\n",
    "    print(\"\\nПсевдослучайные числа:\")\n",
    "    random_table = RandomProbingHashTable(10)\n",
    "    test_hash_table(random_table)\n",
    "\n",
    "    # Тестирование метода цепочек\n",
    "    print(\"\\nМетод цепочек:\")\n",
    "    chaining_table = ChainingHashTable(10)\n",
    "    test_hash_table(chaining_table)"
   ]
  },
  {
   "cell_type": "markdown",
   "metadata": {
    "id": "5DyIHveR_PCw"
   },
   "source": [
    "### Задание №3"
   ]
  },
  {
   "cell_type": "code",
   "execution_count": 4,
   "metadata": {
    "id": "Iu3nVhI-_tAD"
   },
   "outputs": [
    {
     "name": "stdout",
     "output_type": "stream",
     "text": [
      "Q . . . . . . .\n",
      ". . . . Q . . .\n",
      ". . . . . . . Q\n",
      ". . . . . Q . .\n",
      ". . Q . . . . .\n",
      ". . . . . . Q .\n",
      ". Q . . . . . .\n",
      ". . . Q . . . .\n",
      "\n",
      "\n"
     ]
    },
    {
     "data": {
      "text/plain": [
       "True"
      ]
     },
     "execution_count": 4,
     "metadata": {},
     "output_type": "execute_result"
    }
   ],
   "source": [
    "def print_board(board):\n",
    "    for row in board:\n",
    "        print(\" \".join(\"Q\" if cell else \".\" for cell in row))\n",
    "    print(\"\\n\")\n",
    "\n",
    "# Функция для проверки безопасности размещения ферзя в позиции (row, col)\n",
    "def is_safe(board, row, col, n):\n",
    "    for i in range(row):\n",
    "        if board[i][col]:\n",
    "            return False\n",
    "\n",
    "    for i, j in zip(range(row, -1, -1), range(col, -1, -1)):\n",
    "        if board[i][j]:\n",
    "            return False\n",
    "\n",
    "    for i, j in zip(range(row, -1, -1), range(col, n)):\n",
    "        if board[i][j]:\n",
    "            return False\n",
    "\n",
    "    return True\n",
    "\n",
    "# Рекурсивная функция для размещения 8 ферзей\n",
    "def solve_n_queens(board, row, n):\n",
    "    if row == n:\n",
    "        print_board(board)\n",
    "        return True\n",
    "\n",
    "    for col in range(n):\n",
    "        if is_safe(board, row, col, n):\n",
    "            board[row][col] = True\n",
    "            if solve_n_queens(board, row + 1, n):\n",
    "                return True\n",
    "            board[row][col] = False\n",
    "\n",
    "    return False\n",
    "\n",
    "# Основная функция для запуска решения\n",
    "n = 8\n",
    "board = [[False] * n for _ in range(n)]\n",
    "solve_n_queens(board, 0, n)\n"
   ]
  }
 ],
 "metadata": {
  "colab": {
   "authorship_tag": "ABX9TyONbdWkiSXVYOHYFEBERJNg",
   "provenance": [
    {
     "file_id": "1FA5lY-wKON24Mytk1IYGak5v2ZTJgYT-",
     "timestamp": 1740602601383
    },
    {
     "file_id": "1QkMqQ0Fcuu89XrTPGViu_7u6a7f3y_Ob",
     "timestamp": 1740602214544
    }
   ]
  },
  "kernelspec": {
   "display_name": "Python 3",
   "name": "python3"
  },
  "language_info": {
   "codemirror_mode": {
    "name": "ipython",
    "version": 3
   },
   "file_extension": ".py",
   "mimetype": "text/x-python",
   "name": "python",
   "nbconvert_exporter": "python",
   "pygments_lexer": "ipython3",
   "version": "3.9.13"
  }
 },
 "nbformat": 4,
 "nbformat_minor": 0
}
